{
 "cells": [
  {
   "cell_type": "code",
   "execution_count": 4,
   "id": "cb52f337",
   "metadata": {},
   "outputs": [],
   "source": [
    "import pyautogui\n",
    "import time\n",
    "\n",
    "pyautogui.hotkey(\"winleft\", \"r\")\n",
    "time.sleep(2)\n",
    "pyautogui.write(\"calc\")\n",
    "pyautogui.press(\"enter\")"
   ]
  },
  {
   "cell_type": "code",
   "execution_count": 14,
   "id": "9ea7d1c2",
   "metadata": {},
   "outputs": [],
   "source": [
    "pyautogui.hotkey(\"winleft\", \"r\")\n",
    "time.sleep(1)\n",
    "pyautogui.write(\"chrome\")\n",
    "pyautogui.press(\"enter\")\n",
    "time.sleep(2)\n",
    "pyautogui.write(\"www.uol.com.br\", interval=0.5)\n",
    "pyautogui.press(\"enter\")\n",
    "time.sleep(3)\n",
    "# pyautogui.press(\"tab\", presses=16, interval=0.5)\n",
    "pyautogui.click(x=631, y=295)\n",
    "# pyautogui.press('enter')"
   ]
  },
  {
   "cell_type": "code",
   "execution_count": 68,
   "id": "de3d5177",
   "metadata": {},
   "outputs": [
    {
     "name": "stdout",
     "output_type": "stream",
     "text": [
      "Point(x=422, y=944)\n"
     ]
    }
   ],
   "source": [
    "time.sleep(5)\n",
    "posicao = pyautogui.position()\n",
    "time.sleep(3)\n",
    "print(posicao)"
   ]
  },
  {
   "cell_type": "markdown",
   "id": "dabfb8ff",
   "metadata": {},
   "source": [
    "**Exercício**\n",
    "- Com PyAutoGui:\n",
    "    - Crie um arquivo txt\n",
    "    - Insira um bloco de texto ex: uma receita, poema, música\n",
    "    - Salve este arquivo com o nome: \"exercício pyautogui - SEU NOME\"\n",
    "    - Na pasta projeto"
   ]
  },
  {
   "cell_type": "code",
   "execution_count": 69,
   "id": "1c4b96bb",
   "metadata": {},
   "outputs": [
    {
     "data": {
      "text/plain": [
       "'pyautogui.write(\"notepad\")\\npyautogui.press(\"enter\")\\ntime.sleep(1)1'"
      ]
     },
     "execution_count": 69,
     "metadata": {},
     "output_type": "execute_result"
    }
   ],
   "source": [
    "pyautogui.hotkey(\"winleft\", \"r\")\n",
    "time.sleep(1)\n",
    "pyautogui.write(\"chrome\")\n",
    "time.sleep(1)\n",
    "pyautogui.press(\"enter\")\n",
    "time.sleep(3)\n",
    "pyautogui.write(\"receita de bolo\", interval=0.5)\n",
    "pyautogui.press(\"enter\")\n",
    "time.sleep(5)\n",
    "pyautogui.moveTo(x=248, y=837, duration= 0.4)\n",
    "time.sleep(3)\n",
    "pyautogui.click()\n",
    "time.sleep(2)\n",
    "pyautogui.scroll(-50)\n",
    "pyautogui.sleep(1)\n",
    "pyautogui.moveTo(x=228, y=772, duration= 0.4)\n",
    "pyautogui.sleep(1)\n",
    "pyautogui.mouseDown()\n",
    "pyautogui.moveTo(x=422, y=944, duration= 0.5)\n",
    "'''pyautogui.write(\"notepad\")\n",
    "pyautogui.press(\"enter\")\n",
    "time.sleep(1)1'''"
   ]
  },
  {
   "cell_type": "code",
   "execution_count": null,
   "id": "5ef816c8",
   "metadata": {},
   "outputs": [],
   "source": []
  }
 ],
 "metadata": {
  "kernelspec": {
   "display_name": "auto (3.13.2)",
   "language": "python",
   "name": "python3"
  },
  "language_info": {
   "codemirror_mode": {
    "name": "ipython",
    "version": 3
   },
   "file_extension": ".py",
   "mimetype": "text/x-python",
   "name": "python",
   "nbconvert_exporter": "python",
   "pygments_lexer": "ipython3",
   "version": "3.13.2"
  }
 },
 "nbformat": 4,
 "nbformat_minor": 5
}
